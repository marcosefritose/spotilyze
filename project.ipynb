{
 "cells": [
  {
   "attachments": {},
   "cell_type": "markdown",
   "metadata": {},
   "source": [
    "# DS 22/23 2A Project"
   ]
  },
  {
   "attachments": {},
   "cell_type": "markdown",
   "metadata": {},
   "source": [
    "### Load downloaded Spotify Streaming data\n",
    "The data is split up in multiple JSON files. We need to all read in all files and merge them into one big DataFrame for further processing."
   ]
  },
  {
   "cell_type": "code",
   "execution_count": 4,
   "metadata": {},
   "outputs": [
    {
     "name": "stdout",
     "output_type": "stream",
     "text": [
      "<class 'pandas.core.frame.DataFrame'>\n",
      "Int64Index: 174902 entries, 0 to 16487\n",
      "Data columns (total 21 columns):\n",
      " #   Column                             Non-Null Count   Dtype  \n",
      "---  ------                             --------------   -----  \n",
      " 0   ts                                 174902 non-null  object \n",
      " 1   username                           174902 non-null  object \n",
      " 2   platform                           174902 non-null  object \n",
      " 3   ms_played                          174902 non-null  int64  \n",
      " 4   conn_country                       174902 non-null  object \n",
      " 5   ip_addr_decrypted                  174902 non-null  object \n",
      " 6   user_agent_decrypted               172199 non-null  object \n",
      " 7   master_metadata_track_name         166423 non-null  object \n",
      " 8   master_metadata_album_artist_name  166423 non-null  object \n",
      " 9   master_metadata_album_album_name   166423 non-null  object \n",
      " 10  spotify_track_uri                  166423 non-null  object \n",
      " 11  episode_name                       7856 non-null    object \n",
      " 12  episode_show_name                  7856 non-null    object \n",
      " 13  spotify_episode_uri                7856 non-null    object \n",
      " 14  reason_start                       174902 non-null  object \n",
      " 15  reason_end                         174902 non-null  object \n",
      " 16  shuffle                            174902 non-null  bool   \n",
      " 17  skipped                            41084 non-null   float64\n",
      " 18  offline                            174902 non-null  bool   \n",
      " 19  offline_timestamp                  174902 non-null  int64  \n",
      " 20  incognito_mode                     174902 non-null  bool   \n",
      "dtypes: bool(3), float64(1), int64(2), object(15)\n",
      "memory usage: 25.9+ MB\n"
     ]
    }
   ],
   "source": [
    "# Load raw streaming history data\n",
    "import os\n",
    "import pandas as pd\n",
    "\n",
    "DATA_PATH = './data/'\n",
    "\n",
    "# List of all relevant files\n",
    "file_list = [\n",
    "    DATA_PATH + filename for filename in os.listdir(DATA_PATH) if filename != '.gitkeep']\n",
    "\n",
    "# List of Dataframes for each file\n",
    "df_list = [pd.read_json(file) for file in file_list]\n",
    "\n",
    "# Concatenating all df's together\n",
    "df = pd.concat(df_list)\n",
    "df.info()"
   ]
  },
  {
   "attachments": {},
   "cell_type": "markdown",
   "metadata": {},
   "source": [
    "## Setup Database and insatntiate engine\n",
    "The util functions help us to create all required tables for the designed star schema. The used database credentials can be set in the .env file via the following variables:\n",
    "- DB_DRIVER\n",
    "- DB_NAME\n",
    "- DB_USERNAME\n",
    "- DB_PASSWORD\n",
    "- DB_SERVER\n",
    "- DB_PORT"
   ]
  },
  {
   "cell_type": "code",
   "execution_count": 5,
   "metadata": {},
   "outputs": [],
   "source": [
    "from database import get_sql_engine, create_tables\n",
    "\n",
    "create_tables()\n",
    "engine = get_sql_engine()"
   ]
  },
  {
   "attachments": {},
   "cell_type": "markdown",
   "metadata": {},
   "source": [
    "## Setup Spotify API connection\n",
    "We make use of the spotipy package to interact with the public spotify web api. This is required to enrich the streaming history data with information on songs, genres, artist and musical features. To initiialize the connection the credentials must be set in the .env file via the variables:\n",
    "- SPOTIFY_CLIENT_ID\n",
    "- SPOTIFY_CLIENT_SECRET"
   ]
  },
  {
   "cell_type": "code",
   "execution_count": 6,
   "metadata": {},
   "outputs": [],
   "source": [
    "# Spotify API Integration\n",
    "import os\n",
    "\n",
    "import spotipy\n",
    "from spotipy.oauth2 import SpotifyClientCredentials\n",
    "\n",
    "CLIENT_ID = os.environ['SPOTIFY_CLIENT_ID']\n",
    "CLIENT_SECRET = os.environ['SPOTIFY_CLIENT_SECRET']\n",
    "\n",
    "sp = spotipy.Spotify(auth_manager=SpotifyClientCredentials(client_id=CLIENT_ID, client_secret=CLIENT_SECRET), retries=5, backoff_factor=0.5)"
   ]
  },
  {
   "attachments": {},
   "cell_type": "markdown",
   "metadata": {},
   "source": [
    "## Song Data preprocessing"
   ]
  },
  {
   "cell_type": "code",
   "execution_count": 7,
   "metadata": {},
   "outputs": [],
   "source": [
    "song_df = df[['master_metadata_track_name', 'spotify_track_uri']]\n",
    "song_df = song_df.dropna()\n",
    "song_df = song_df.drop_duplicates()\n",
    "song_df = song_df.rename(columns={\n",
    "    'master_metadata_track_name': 'name',\n",
    "    'spotify_track_uri': 'spotify_id',\n",
    "})\n",
    "song_df = song_df.reset_index(drop=True)"
   ]
  },
  {
   "attachments": {},
   "cell_type": "markdown",
   "metadata": {},
   "source": [
    "### Song data enrichment"
   ]
  },
  {
   "cell_type": "code",
   "execution_count": 8,
   "metadata": {},
   "outputs": [
    {
     "data": {
      "application/vnd.jupyter.widget-view+json": {
       "model_id": "84dd584197614e53b696717d2211ebc1",
       "version_major": 2,
       "version_minor": 0
      },
      "text/plain": [
       "  0%|          | 0/918 [00:00<?, ?it/s]"
      ]
     },
     "metadata": {},
     "output_type": "display_data"
    }
   ],
   "source": [
    "from tqdm.auto import tqdm\n",
    "\n",
    "chunk_size = 50\n",
    "\n",
    "for n in tqdm(range(0, len(song_df), chunk_size)):\n",
    "    # Prepare all Spotify internal Song IDs of the chunk for querrying\n",
    "    song_ids = song_df.loc[n:n+chunk_size-1, 'spotify_id'].tolist()\n",
    "    \n",
    "    # Query Spotify API\n",
    "    try:\n",
    "        tracks_result = sp.tracks(song_ids)\n",
    "        audio_features_result = sp.audio_features(song_ids)\n",
    "    except spotipy.client.SpotifyException as e:\n",
    "        print(\"Spotipy Exception: \"+e)\n",
    "        continue\n",
    "\n",
    "    tracks = tracks_result['tracks']\n",
    "    features = audio_features_result\n",
    "\n",
    "    artist_names = [track['artists'][0]['name']\n",
    "                    if track is not None else None for track in tracks]\n",
    "    artist_uris = [track['artists'][0]['uri']\n",
    "                   if track is not None else None for track in tracks]\n",
    "    track_uris = [track['uri']\n",
    "                  if track is not None else None for track in tracks]\n",
    "    track_durations = [track['duration_ms']\n",
    "                       if track is not None else None for track in tracks]\n",
    "    track_explicit = [track['explicit']\n",
    "                      if track is not None else None for track in tracks]\n",
    "    track_popularities = [track['popularity']\n",
    "                          if track is not None else None for track in tracks]\n",
    "    features_key = [feat['key']\n",
    "                    if feat is not None else None for feat in features]\n",
    "    features_mode = [feat['mode']\n",
    "                     if feat is not None else None for feat in features]\n",
    "    features_danceability = [feat['danceability']\n",
    "                             if feat is not None else None for feat in features]\n",
    "    features_energy = [feat['energy']\n",
    "                       if feat is not None else None for feat in features]\n",
    "    features_loudness = [feat['loudness']\n",
    "                         if feat is not None else None for feat in features]\n",
    "    features_speechiness = [feat['speechiness']\n",
    "                            if feat is not None else None for feat in features]\n",
    "    features_acousticness = [feat['acousticness']\n",
    "                              if feat is not None else None for feat in features]\n",
    "    features_instrumentalness = [feat['instrumentalness']\n",
    "                                 if feat is not None else None for feat in features]\n",
    "    features_liveness = [feat['liveness']\n",
    "                         if feat is not None else None for feat in features]\n",
    "    features_valence = [feat['valence']\n",
    "                        if feat is not None else None for feat in features]\n",
    "    features_tempo = [feat['tempo']\n",
    "                      if feat is not None else None for feat in features]\n",
    "\n",
    "    song_df.loc[n:n+chunk_size-1, 'artist_name'] = artist_names\n",
    "    song_df.loc[n:n+chunk_size-1, 'artist_uri'] = artist_uris\n",
    "    song_df.loc[n:n+chunk_size-1, 'uri'] = track_uris\n",
    "    song_df.loc[n:n+chunk_size-1, 'duration'] = track_durations\n",
    "    song_df.loc[n:n+chunk_size-1, 'explicitness'] = track_explicit\n",
    "    song_df.loc[n:n+chunk_size-1, 'popularity'] = track_popularities\n",
    "    song_df.loc[n:n+chunk_size-1, 'key'] = features_key\n",
    "    song_df.loc[n:n+chunk_size-1, 'mode'] = features_mode\n",
    "    song_df.loc[n:n+chunk_size-1, 'danceability'] = features_danceability\n",
    "    song_df.loc[n:n+chunk_size-1, 'energy'] = features_energy\n",
    "    song_df.loc[n:n+chunk_size-1, 'loudness'] = features_loudness\n",
    "    song_df.loc[n:n+chunk_size-1, 'speechiness'] = features_speechiness\n",
    "    song_df.loc[n:n+chunk_size-1, 'acousticness'] = features_acousticness\n",
    "    song_df.loc[n:n+chunk_size-1, 'instrumentalness'] = features_instrumentalness\n",
    "    song_df.loc[n:n+chunk_size-1, 'liveness'] = features_liveness\n",
    "    song_df.loc[n:n+chunk_size-1, 'valence'] = features_valence\n",
    "    song_df.loc[n:n+chunk_size-1, 'tempo'] = features_tempo\n",
    "\n",
    "song_df\n"
   ]
  },
  {
   "cell_type": "code",
   "execution_count": null,
   "metadata": {},
   "outputs": [
    {
     "data": {
      "text/plain": [
       "861"
      ]
     },
     "execution_count": 332,
     "metadata": {},
     "output_type": "execute_result"
    }
   ],
   "source": [
    "song_table_df = song_df.drop(\n",
    "    columns=['artist_name', 'artist_uri', 'uri'], axis=1)\n",
    "\n",
    "song_table_df['name'] = song_table_df['name'].str.encode(\n",
    "    'latin-1', 'ignore').str.decode('latin-1')\n",
    "\n",
    "song_table_df.to_sql('songs', engine, schema='project',\n",
    "                     index=True, index_label='id', if_exists='append')\n"
   ]
  },
  {
   "attachments": {},
   "cell_type": "markdown",
   "metadata": {},
   "source": [
    "## Artist Data Preprocessing"
   ]
  },
  {
   "cell_type": "code",
   "execution_count": null,
   "metadata": {},
   "outputs": [
    {
     "data": {
      "application/vnd.jupyter.widget-view+json": {
       "model_id": "2cf89da00726418eb46ae5f3b4fcd6ac",
       "version_major": 2,
       "version_minor": 0
      },
      "text/plain": [
       "  0%|          | 0/285 [00:00<?, ?it/s]"
      ]
     },
     "metadata": {},
     "output_type": "display_data"
    }
   ],
   "source": [
    "from ast import literal_eval\n",
    "\n",
    "artist_df = song_df[['artist_name', 'artist_uri']]\n",
    "artist_df = artist_df.drop_duplicates().dropna()\n",
    "artist_df = artist_df.reset_index(drop=True)\n",
    "\n",
    "chunk_size = 50\n",
    "\n",
    "for n in tqdm(range(0, len(artist_df), chunk_size)):\n",
    "    artists_ids = artist_df.loc[n:n+chunk_size-1, 'artist_uri'].tolist()\n",
    "    try:\n",
    "        artists_result = sp.artists(artists_ids)\n",
    "        artists_result = artists_result['artists']\n",
    "    except spotipy.client.SpotifyException as e:\n",
    "        print(\"Spotipy Exception: \"+e)\n",
    "        continue\n",
    "\n",
    "    popularities = [artist['popularity']\n",
    "                    if artist is not None else None for artist in artists_result]\n",
    "    genres = [str(artist['genres'])\n",
    "                    if artist is not None else None for artist in artists_result]\n",
    "\n",
    "    artist_df.loc[n:n+chunk_size-1, 'popularity'] = popularities\n",
    "    artist_df.loc[n:n+chunk_size-1, 'genres'] = genres\n",
    "\n",
    "artist_df['genres'] = artist_df['genres'].apply(literal_eval)"
   ]
  },
  {
   "cell_type": "code",
   "execution_count": null,
   "metadata": {},
   "outputs": [
    {
     "data": {
      "text/plain": [
       "228"
      ]
     },
     "execution_count": 334,
     "metadata": {},
     "output_type": "execute_result"
    }
   ],
   "source": [
    "artist_table_df = artist_df[['artist_name', 'artist_uri', 'popularity']]\n",
    "artist_table_df = artist_table_df.rename(columns={\n",
    "    'artist_name': 'name',\n",
    "    'artist_uri': 'spotify_id'\n",
    "})\n",
    "artist_table_df['name'] = artist_table_df['name'].str.encode(\n",
    "    'latin-1', 'ignore').str.decode('latin-1')\n",
    "artist_table_df.to_sql('artists', engine, schema='project',\n",
    "                       index=True, index_label='id', if_exists='append')\n"
   ]
  },
  {
   "attachments": {},
   "cell_type": "markdown",
   "metadata": {},
   "source": [
    "## Genre Data Preprocessing"
   ]
  },
  {
   "cell_type": "code",
   "execution_count": null,
   "metadata": {},
   "outputs": [
    {
     "data": {
      "text/plain": [
       "442"
      ]
     },
     "execution_count": 335,
     "metadata": {},
     "output_type": "execute_result"
    }
   ],
   "source": [
    "genre_df = artist_df['genres'].explode('genres')\n",
    "genre_df = genre_df.drop_duplicates().dropna().reset_index(drop=True)\n",
    "genre_df.name = 'name'\n",
    "\n",
    "genre_df.to_sql('genres', engine, schema='project',\n",
    "                index=True, index_label='id', if_exists='append')"
   ]
  },
  {
   "cell_type": "code",
   "execution_count": null,
   "metadata": {},
   "outputs": [
    {
     "data": {
      "text/html": [
       "<div>\n",
       "<style scoped>\n",
       "    .dataframe tbody tr th:only-of-type {\n",
       "        vertical-align: middle;\n",
       "    }\n",
       "\n",
       "    .dataframe tbody tr th {\n",
       "        vertical-align: top;\n",
       "    }\n",
       "\n",
       "    .dataframe thead th {\n",
       "        text-align: right;\n",
       "    }\n",
       "</style>\n",
       "<table border=\"1\" class=\"dataframe\">\n",
       "  <thead>\n",
       "    <tr style=\"text-align: right;\">\n",
       "      <th></th>\n",
       "      <th>artist_name</th>\n",
       "      <th>artist_uri</th>\n",
       "      <th>popularity</th>\n",
       "      <th>name</th>\n",
       "      <th>genre_id</th>\n",
       "    </tr>\n",
       "  </thead>\n",
       "  <tbody>\n",
       "    <tr>\n",
       "      <th>0</th>\n",
       "      <td>R.I.O.</td>\n",
       "      <td>spotify:artist:0Ol3Jol2T3lZZVLNNzWPhj</td>\n",
       "      <td>62.0</td>\n",
       "      <td>dance pop</td>\n",
       "      <td>0.0</td>\n",
       "    </tr>\n",
       "    <tr>\n",
       "      <th>1</th>\n",
       "      <td>R.I.O.</td>\n",
       "      <td>spotify:artist:0Ol3Jol2T3lZZVLNNzWPhj</td>\n",
       "      <td>62.0</td>\n",
       "      <td>german dance</td>\n",
       "      <td>1.0</td>\n",
       "    </tr>\n",
       "    <tr>\n",
       "      <th>2</th>\n",
       "      <td>R.I.O.</td>\n",
       "      <td>spotify:artist:0Ol3Jol2T3lZZVLNNzWPhj</td>\n",
       "      <td>62.0</td>\n",
       "      <td>pop house</td>\n",
       "      <td>2.0</td>\n",
       "    </tr>\n",
       "    <tr>\n",
       "      <th>3</th>\n",
       "      <td>Clean Bandit</td>\n",
       "      <td>spotify:artist:6MDME20pz9RveH9rEXvrOM</td>\n",
       "      <td>76.0</td>\n",
       "      <td>dance pop</td>\n",
       "      <td>0.0</td>\n",
       "    </tr>\n",
       "    <tr>\n",
       "      <th>4</th>\n",
       "      <td>Clean Bandit</td>\n",
       "      <td>spotify:artist:6MDME20pz9RveH9rEXvrOM</td>\n",
       "      <td>76.0</td>\n",
       "      <td>edm</td>\n",
       "      <td>3.0</td>\n",
       "    </tr>\n",
       "    <tr>\n",
       "      <th>...</th>\n",
       "      <td>...</td>\n",
       "      <td>...</td>\n",
       "      <td>...</td>\n",
       "      <td>...</td>\n",
       "      <td>...</td>\n",
       "    </tr>\n",
       "    <tr>\n",
       "      <th>35037</th>\n",
       "      <td>Vluestar</td>\n",
       "      <td>spotify:artist:2FcgwIGEPmPyItFPscscDO</td>\n",
       "      <td>58.0</td>\n",
       "      <td>aesthetic rap</td>\n",
       "      <td>2074.0</td>\n",
       "    </tr>\n",
       "    <tr>\n",
       "      <th>35038</th>\n",
       "      <td>Vluestar</td>\n",
       "      <td>spotify:artist:2FcgwIGEPmPyItFPscscDO</td>\n",
       "      <td>58.0</td>\n",
       "      <td>lo-fi chill</td>\n",
       "      <td>453.0</td>\n",
       "    </tr>\n",
       "    <tr>\n",
       "      <th>35039</th>\n",
       "      <td>Vluestar</td>\n",
       "      <td>spotify:artist:2FcgwIGEPmPyItFPscscDO</td>\n",
       "      <td>58.0</td>\n",
       "      <td>sad lo-fi</td>\n",
       "      <td>454.0</td>\n",
       "    </tr>\n",
       "    <tr>\n",
       "      <th>35040</th>\n",
       "      <td>Vluestar</td>\n",
       "      <td>spotify:artist:2FcgwIGEPmPyItFPscscDO</td>\n",
       "      <td>58.0</td>\n",
       "      <td>sad rap</td>\n",
       "      <td>455.0</td>\n",
       "    </tr>\n",
       "    <tr>\n",
       "      <th>35041</th>\n",
       "      <td>Turnup Tun</td>\n",
       "      <td>spotify:artist:6jaPkL4pNfa4aEDCIEYNP0</td>\n",
       "      <td>23.0</td>\n",
       "      <td>luxembourgian hip hop</td>\n",
       "      <td>1751.0</td>\n",
       "    </tr>\n",
       "  </tbody>\n",
       "</table>\n",
       "<p>35042 rows × 5 columns</p>\n",
       "</div>"
      ],
      "text/plain": [
       "        artist_name                             artist_uri  popularity  \\\n",
       "0            R.I.O.  spotify:artist:0Ol3Jol2T3lZZVLNNzWPhj        62.0   \n",
       "1            R.I.O.  spotify:artist:0Ol3Jol2T3lZZVLNNzWPhj        62.0   \n",
       "2            R.I.O.  spotify:artist:0Ol3Jol2T3lZZVLNNzWPhj        62.0   \n",
       "3      Clean Bandit  spotify:artist:6MDME20pz9RveH9rEXvrOM        76.0   \n",
       "4      Clean Bandit  spotify:artist:6MDME20pz9RveH9rEXvrOM        76.0   \n",
       "...             ...                                    ...         ...   \n",
       "35037      Vluestar  spotify:artist:2FcgwIGEPmPyItFPscscDO        58.0   \n",
       "35038      Vluestar  spotify:artist:2FcgwIGEPmPyItFPscscDO        58.0   \n",
       "35039      Vluestar  spotify:artist:2FcgwIGEPmPyItFPscscDO        58.0   \n",
       "35040      Vluestar  spotify:artist:2FcgwIGEPmPyItFPscscDO        58.0   \n",
       "35041    Turnup Tun  spotify:artist:6jaPkL4pNfa4aEDCIEYNP0        23.0   \n",
       "\n",
       "                        name  genre_id  \n",
       "0                  dance pop       0.0  \n",
       "1               german dance       1.0  \n",
       "2                  pop house       2.0  \n",
       "3                  dance pop       0.0  \n",
       "4                        edm       3.0  \n",
       "...                      ...       ...  \n",
       "35037          aesthetic rap    2074.0  \n",
       "35038            lo-fi chill     453.0  \n",
       "35039              sad lo-fi     454.0  \n",
       "35040                sad rap     455.0  \n",
       "35041  luxembourgian hip hop    1751.0  \n",
       "\n",
       "[35042 rows x 5 columns]"
      ]
     },
     "execution_count": 336,
     "metadata": {},
     "output_type": "execute_result"
    }
   ],
   "source": [
    "link_df = artist_df.explode('genres')\n",
    "link_df = link_df.rename(columns={'genres': 'name'})\n",
    "\n",
    "genre_df = genre_df.to_frame()\n",
    "genre_df['genre_id'] = genre_df.index\n",
    "\n",
    "artist_genre_id_df = pd.merge(link_df, genre_df, on='name', how='left')\n",
    "artist_genre_id_df"
   ]
  },
  {
   "attachments": {},
   "cell_type": "markdown",
   "metadata": {},
   "source": [
    "## Stream Data preprocessing"
   ]
  },
  {
   "cell_type": "code",
   "execution_count": null,
   "metadata": {},
   "outputs": [
    {
     "name": "stderr",
     "output_type": "stream",
     "text": [
      "/var/folders/r5/v8m2d0656qqcmqdnp93q133r0000gn/T/ipykernel_8721/2036528587.py:7: SettingWithCopyWarning: \n",
      "A value is trying to be set on a copy of a slice from a DataFrame.\n",
      "Try using .loc[row_indexer,col_indexer] = value instead\n",
      "\n",
      "See the caveats in the documentation: https://pandas.pydata.org/pandas-docs/stable/user_guide/indexing.html#returning-a-view-versus-a-copy\n",
      "  song_id_df['song_id'] = song_df.index\n",
      "/var/folders/r5/v8m2d0656qqcmqdnp93q133r0000gn/T/ipykernel_8721/2036528587.py:10: SettingWithCopyWarning: \n",
      "A value is trying to be set on a copy of a slice from a DataFrame.\n",
      "Try using .loc[row_indexer,col_indexer] = value instead\n",
      "\n",
      "See the caveats in the documentation: https://pandas.pydata.org/pandas-docs/stable/user_guide/indexing.html#returning-a-view-versus-a-copy\n",
      "  artist_id_df['artist_id'] = artist_df.index\n"
     ]
    }
   ],
   "source": [
    "stream_df = df[['ts', 'spotify_track_uri', 'shuffle',\n",
    "                'skipped', 'conn_country', 'ms_played']]\n",
    "stream_df = stream_df.rename(columns={'conn_country': 'country', 'ms_played': 'duration'})\n",
    "stream_df = stream_df.dropna(axis=0, subset=['spotify_track_uri'])\n",
    "\n",
    "song_id_df = song_df[['spotify_id', 'artist_uri']]\n",
    "song_id_df['song_id'] = song_df.index\n",
    "\n",
    "artist_id_df = artist_df[['artist_uri', 'genres']]\n",
    "artist_id_df['artist_id'] = artist_df.index\n",
    "\n",
    "song_id_df = song_id_df.merge(artist_id_df, on='artist_uri', how='inner')\n",
    "\n",
    "stream_df = stream_df.merge(song_id_df, left_on='spotify_track_uri', right_on=\"spotify_id\")\n",
    "stream_df = stream_df.drop(\n",
    "    columns=['spotify_track_uri', 'spotify_id', 'artist_uri'], axis=1)\n"
   ]
  },
  {
   "cell_type": "code",
   "execution_count": null,
   "metadata": {},
   "outputs": [
    {
     "name": "stderr",
     "output_type": "stream",
     "text": [
      "/var/folders/r5/v8m2d0656qqcmqdnp93q133r0000gn/T/ipykernel_8721/1910703316.py:2: SettingWithCopyWarning: \n",
      "A value is trying to be set on a copy of a slice from a DataFrame.\n",
      "Try using .loc[row_indexer,col_indexer] = value instead\n",
      "\n",
      "See the caveats in the documentation: https://pandas.pydata.org/pandas-docs/stable/user_guide/indexing.html#returning-a-view-versus-a-copy\n",
      "  stream_date_df['ts'] = pd.to_datetime(stream_date_df['ts'])\n",
      "/var/folders/r5/v8m2d0656qqcmqdnp93q133r0000gn/T/ipykernel_8721/1910703316.py:3: SettingWithCopyWarning: \n",
      "A value is trying to be set on a copy of a slice from a DataFrame.\n",
      "Try using .loc[row_indexer,col_indexer] = value instead\n",
      "\n",
      "See the caveats in the documentation: https://pandas.pydata.org/pandas-docs/stable/user_guide/indexing.html#returning-a-view-versus-a-copy\n",
      "  stream_date_df['stream_id'] = stream_df.index\n"
     ]
    },
    {
     "data": {
      "text/plain": [
       "687"
      ]
     },
     "execution_count": 339,
     "metadata": {},
     "output_type": "execute_result"
    }
   ],
   "source": [
    "stream_date_df = stream_df[['ts']]\n",
    "stream_date_df['ts'] = pd.to_datetime(stream_date_df['ts'])\n",
    "stream_date_df['stream_id'] = stream_df.index\n",
    "\n",
    "stream_date_df = stream_date_df.rename(columns={'ts': 'start_time'})\n",
    "stream_date_df['year'] = stream_date_df['start_time'].dt.year\n",
    "stream_date_df['month'] = stream_date_df['start_time'].dt.month\n",
    "stream_date_df['day'] = stream_date_df['start_time'].dt.day\n",
    "stream_date_df['hour'] = stream_date_df['start_time'].dt.hour\n",
    "stream_date_df['weekday'] = stream_date_df['start_time'].dt.weekday\n",
    "\n",
    "stream_date_df = stream_date_df.drop(columns=['stream_id'], axis=1)\n",
    "stream_date_df.to_sql('dates', engine,\n",
    "                      schema='project', if_exists='append', index=True, index_label='id')\n"
   ]
  },
  {
   "cell_type": "code",
   "execution_count": null,
   "metadata": {},
   "outputs": [
    {
     "data": {
      "text/plain": [
       "687"
      ]
     },
     "execution_count": 343,
     "metadata": {},
     "output_type": "execute_result"
    }
   ],
   "source": [
    "stream_table_df = stream_df.drop(columns=['genres', 'ts'], axis=1)\n",
    "stream_table_df['date_id'] = stream_date_df.index\n",
    "stream_table_df['skipped'] = [True if skip ==\n",
    "                              1 else False for skip in stream_table_df['skipped'].tolist()]\n",
    "stream_table_df.to_sql('streams', engine, schema='project',\n",
    "                 index=True, index_label='id', if_exists='append')\n"
   ]
  },
  {
   "cell_type": "code",
   "execution_count": null,
   "metadata": {},
   "outputs": [
    {
     "name": "stderr",
     "output_type": "stream",
     "text": [
      "/var/folders/r5/v8m2d0656qqcmqdnp93q133r0000gn/T/ipykernel_8721/2813369518.py:2: SettingWithCopyWarning: \n",
      "A value is trying to be set on a copy of a slice from a DataFrame.\n",
      "Try using .loc[row_indexer,col_indexer] = value instead\n",
      "\n",
      "See the caveats in the documentation: https://pandas.pydata.org/pandas-docs/stable/user_guide/indexing.html#returning-a-view-versus-a-copy\n",
      "  stream_genre_df['stream_id'] = stream_df.index\n"
     ]
    },
    {
     "data": {
      "text/plain": [
       "408"
      ]
     },
     "execution_count": 344,
     "metadata": {},
     "output_type": "execute_result"
    }
   ],
   "source": [
    "stream_genre_df = stream_df[['genres']]\n",
    "stream_genre_df['stream_id'] = stream_df.index\n",
    "\n",
    "stream_genre_df = stream_genre_df.explode('genres').dropna()\n",
    "stream_genre_df = stream_genre_df.rename(columns={'genres': 'name'})\n",
    "stream_genre_df = stream_genre_df.merge(genre_df, on=\"name\", how='left').drop(columns=['name'], axis=1)\n",
    "\n",
    "stream_genre_df.to_sql('streams_genres', engine, schema='project', if_exists='append', index=False)"
   ]
  }
 ],
 "metadata": {
  "kernelspec": {
   "display_name": "dpv",
   "language": "python",
   "name": "python3"
  },
  "language_info": {
   "codemirror_mode": {
    "name": "ipython",
    "version": 3
   },
   "file_extension": ".py",
   "mimetype": "text/x-python",
   "name": "python",
   "nbconvert_exporter": "python",
   "pygments_lexer": "ipython3",
   "version": "3.11.0"
  },
  "orig_nbformat": 4
 },
 "nbformat": 4,
 "nbformat_minor": 2
}
