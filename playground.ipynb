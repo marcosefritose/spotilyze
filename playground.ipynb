{
 "cells": [
  {
   "cell_type": "code",
   "execution_count": null,
   "metadata": {},
   "outputs": [],
   "source": [
    "import os\n",
    "import pandas as pd\n",
    "\n",
    "DATA_PATH = './data/'\n",
    "\n",
    "# List of all relevant files\n",
    "file_list = [DATA_PATH + filename for filename in os.listdir(DATA_PATH)]\n",
    "\n",
    "# List of Dataframes for each file\n",
    "df_list = [pd.read_json(file) for file in file_list]\n",
    "\n",
    "# Concatenating all df's together\n",
    "df = pd.concat(df_list)\n",
    "df.info()"
   ]
  },
  {
   "cell_type": "code",
   "execution_count": null,
   "metadata": {},
   "outputs": [],
   "source": [
    "# Most playtime of all artists\n",
    "sub_df = df[['master_metadata_album_artist_name', 'ms_played']]\n",
    "sub_df = sub_df.rename(columns={'master_metadata_album_artist_name': 'artist'})\n",
    "sub_df.groupby(['artist'])['ms_played'].sum().sort_values(ascending=False)"
   ]
  },
  {
   "cell_type": "code",
   "execution_count": 2,
   "metadata": {},
   "outputs": [
    {
     "name": "stdout",
     "output_type": "stream",
     "text": [
      "0 Immigrant Song - Remaster\n",
      "1 Kashmir - Remaster\n",
      "2 Whole Lotta Love - 1990 Remaster\n",
      "3 Stairway to Heaven - Remaster\n",
      "4 Going to California - Remaster\n",
      "5 Ramble On - 1990 Remaster\n",
      "6 D'yer Mak'er - Remaster\n",
      "7 Black Dog - Remaster\n",
      "8 Over the Hills and Far Away - Remaster\n",
      "9 D'yer Mak'er - Remaster\n",
      "10 Good Times Bad Times - 1993 Remaster\n",
      "11 Heartbreaker - 1990 Remaster\n",
      "12 Hey, Hey, What Can I Do - Remaster\n",
      "13 When the Levee Breaks - Remaster\n",
      "14 Rock and Roll - Remaster\n",
      "15 Dazed and Confused - 1990 Remaster\n",
      "16 Fool in the Rain - Remaster\n",
      "17 Tangerine - Remaster\n",
      "18 Houses of the Holy - Remaster\n",
      "19 Babe I'm Gonna Leave You - 1990 Remaster\n"
     ]
    }
   ],
   "source": [
    "# Spotify API Integration\n",
    "import os\n",
    "\n",
    "import spotipy\n",
    "from spotipy.oauth2 import SpotifyClientCredentials\n",
    "\n",
    "CLIENT_ID = os.environ['SPOTIFY_CLIENT_ID']\n",
    "CLIENT_SECRET = os.environ['SPOTIFY_CLIENT_SECRET']\n",
    "\n",
    "sp = spotipy.Spotify(auth_manager=SpotifyClientCredentials(client_id=CLIENT_ID,\n",
    "                                                           client_secret=CLIENT_SECRET))\n",
    "\n",
    "results = sp.search(q='led zeppelin', limit=20)\n",
    "for idx, track in enumerate(results['tracks']['items']):\n",
    "    print(idx, track['name'])"
   ]
  }
 ],
 "metadata": {
  "kernelspec": {
   "display_name": "dpv",
   "language": "python",
   "name": "python3"
  },
  "language_info": {
   "codemirror_mode": {
    "name": "ipython",
    "version": 3
   },
   "file_extension": ".py",
   "mimetype": "text/x-python",
   "name": "python",
   "nbconvert_exporter": "python",
   "pygments_lexer": "ipython3",
   "version": "3.11.0"
  },
  "orig_nbformat": 4
 },
 "nbformat": 4,
 "nbformat_minor": 2
}
