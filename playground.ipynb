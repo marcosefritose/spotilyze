{
 "cells": [
  {
   "cell_type": "code",
   "execution_count": null,
   "metadata": {},
   "outputs": [],
   "source": [
    "import os\n",
    "import pandas as pd\n",
    "\n",
    "DATA_PATH = './data/'\n",
    "\n",
    "# List of all relevant files\n",
    "file_list = [DATA_PATH + filename for filename in os.listdir(DATA_PATH)]\n",
    "\n",
    "# List of Dataframes for each file\n",
    "df_list = [pd.read_json(file) for file in file_list]\n",
    "\n",
    "# Concatenating all df's together\n",
    "df = pd.concat(df_list)\n",
    "df.info()"
   ]
  },
  {
   "cell_type": "code",
   "execution_count": null,
   "metadata": {},
   "outputs": [],
   "source": [
    "# Most playtime of all artists\n",
    "sub_df = df[['master_metadata_album_artist_name', 'ms_played']]\n",
    "sub_df = sub_df.rename(columns={'master_metadata_album_artist_name': 'artist'})\n",
    "sub_df.groupby(['artist'])['ms_played'].sum().sort_values(ascending=False)"
   ]
  }
 ],
 "metadata": {
  "kernelspec": {
   "display_name": "dpv",
   "language": "python",
   "name": "python3"
  },
  "language_info": {
   "codemirror_mode": {
    "name": "ipython",
    "version": 3
   },
   "file_extension": ".py",
   "mimetype": "text/x-python",
   "name": "python",
   "nbconvert_exporter": "python",
   "pygments_lexer": "ipython3",
   "version": "3.11.0"
  },
  "orig_nbformat": 4
 },
 "nbformat": 4,
 "nbformat_minor": 2
}
